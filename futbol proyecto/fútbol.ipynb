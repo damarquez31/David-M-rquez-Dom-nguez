{
 "cells": [
  {
   "cell_type": "code",
   "execution_count": 15,
   "id": "ad040765",
   "metadata": {},
   "outputs": [
    {
     "name": "stdout",
     "output_type": "stream",
     "text": [
      "[('Spain', 'La Liga', '(BET)', 'Juanmi Callejon', '19', '16', '1849', '11', 6.62, 0.34, '48', 20.0, 2.47, '1.03', '2016'), ('Spain', 'La Liga', '(BAR)', 'Antoine Griezmann', '36', '0', '3129', '16', 11.86, 0.36, '88', 41.0, 2.67, '1.24', '2016'), ('Spain', 'La Liga', '(ATL)', 'Luis Suarez', '34', '1', '2940', '28', 23.21, 0.75, '120', 57.0, 3.88, '1.84', '2016'), ('Spain', 'La Liga', '(CAR)', 'Ruben Castro', '32', '3', '2842', '13', 14.06, 0.47, '117', 42.0, 3.91, '1.4', '2016'), ('Spain', 'La Liga', '(VAL)', 'Kevin Gameiro', '21', '10', '1745', '13', 10.65, 0.58, '50', 23.0, 2.72, '1.25', '2016'), ('Spain', 'La Liga', '(JUV)', 'Cristiano Ronaldo', '29', '0', '2634', '25', 24.68, 0.89, '162', 60.0, 5.84, '2.16', '2016'), ('Spain', 'La Liga', '(RMA)', 'Karim Benzema', '23', '6', '1967', '11', 13.25, 0.64, '69', 34.0, 3.33, '1.64', '2016'), ('Spain', 'La Liga', '(PSG)', 'Neymar ', '30', '0', '2694', '13', 13.33, 0.47, '105', 42.0, 3.7, '1.48', '2016'), ('Spain', 'La Liga', '(CEL)', 'Iago Aspas', '25', '7', '2354', '19', 13.88, 0.56, '78', 37.0, 3.15, '1.49', '2016'), ('Spain', 'La Liga', '(EIB)', 'Sergi Enrich', '31', '7', '2904', '11', 8.25, 0.27, '64', 26.0, 2.09, '0.85', '2016'), ('Spain', 'La Liga', 'None', 'Aduriz ', '27', '5', '2480', '16', 15.92, 0.61, '85', 45.0, 3.26, '1.72', '2016'), ('Spain', 'La Liga', '(HUE)', 'Sandro Ramlrez', '28', '2', '2340', '14', 7.14, 0.29, '93', 38.0, 3.78, '1.54', '2016'), ('Spain', 'La Liga', '(BAR)', 'Lionel Messi', '32', '2', '2910', '37', 26.65, 0.87, '179', 76.0, 5.84, '2.48', '2016'), ('Spain', 'La Liga', '(VIL)', 'Gerard Moreno', '37', '0', '3361', '13', 8.49, 0.24, '82', 32.0, 2.32, '0.9', '2016'), ('Spain', 'La Liga', '(JUV)', 'Morata', '14', '12', '1392', '15', 9.67, 0.66, '55', 30.0, 3.75, '2.05', '2016'), ('Spain', 'La Liga', '(MON)', 'Wissam Ben Yedder', '20', '11', '1735', '11', 7.85, 0.43, '44', 23.0, 2.41, '1.26', '2016'), ('Spain', 'La Liga', '(SOC)', 'Willian Jose', '27', '1', '2102', '12', 8.41, 0.38, '69', 29.0, 3.12, '1.31', '2016'), ('Spain', 'La Liga', 'Florin', 'Andone ', '32', '5', '2984', '12', 11.62, 0.37, '99', 42.0, 3.15, '1.34', '2016'), ('Spain', 'La Liga', '(SOC)', 'Cedric Bakambu', '17', '9', '1633', '10', 8.08, 0.47, '50', 26.0, 2.91, '1.51', '2016'), ('Spain', 'La Liga', '(RMA)', 'Isco', '18', '12', '1690', '10', 3.91, 0.22, '32', 15.0, 1.8, '0.84', '2016')]\n"
     ]
    }
   ],
   "source": [
    "import csv\n",
    "\n",
    "def lee_goleadores(fichero):\n",
    "        with open(fichero, encoding=\"utf-8\") as f:\n",
    "            lector=csv.reader(f) \n",
    "            next(lector)\n",
    "            goleadores=[(x,y,z,u,t,o,p,k,float(e),float(q),c,float(g),float(j),m,n) for x,y,z,u,t,o,p,k,e,q,c,g,j,m,n in lector]\n",
    "            \n",
    "        return goleadores\n",
    "Goleadores_fútbol =lee_goleadores(\"./data/data.csv\")\n",
    "print(Goleadores_fútbol[:20])\n"
   ]
  },
  {
   "cell_type": "code",
   "execution_count": 16,
   "id": "49673624",
   "metadata": {},
   "outputs": [
    {
     "name": "stdout",
     "output_type": "stream",
     "text": [
      "[]\n"
     ]
    }
   ],
   "source": [
    "jugadores_de_la_liga=[(x,y,z,u,t,o,p,k,e,q,c,g,j,m,n)for x,y,z,u,t,o,p,k,e,q,c,g,j,m,n in Goleadores_fútbol if y ==\"La liga\"]\n",
    "print (jugadores_de_la_liga)"
   ]
  },
  {
   "cell_type": "code",
   "execution_count": null,
   "id": "1f5b4b68",
   "metadata": {},
   "outputs": [],
   "source": []
  },
  {
   "cell_type": "code",
   "execution_count": null,
   "id": "acea4fe6",
   "metadata": {},
   "outputs": [],
   "source": []
  }
 ],
 "metadata": {
  "kernelspec": {
   "display_name": "Python 3 (ipykernel)",
   "language": "python",
   "name": "python3"
  },
  "language_info": {
   "codemirror_mode": {
    "name": "ipython",
    "version": 3
   },
   "file_extension": ".py",
   "mimetype": "text/x-python",
   "name": "python",
   "nbconvert_exporter": "python",
   "pygments_lexer": "ipython3",
   "version": "3.9.12"
  }
 },
 "nbformat": 4,
 "nbformat_minor": 5
}
